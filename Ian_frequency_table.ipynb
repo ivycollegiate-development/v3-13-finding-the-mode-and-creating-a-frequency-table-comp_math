{
 "cells": [
  {
   "cell_type": "code",
   "execution_count": 3,
   "metadata": {},
   "outputs": [
    {
     "name": "stdout",
     "output_type": "stream",
     "text": [
      "Age 18: 4 times\n",
      "Age 20: 4 times\n",
      "Age 19: 3 times\n",
      "Age 21: 2 times\n",
      "Age 22: 2 times\n",
      "{18: 4, 19: 3, 20: 4, 21: 2, 22: 2}\n"
     ]
    }
   ],
   "source": [
    "from collections import Counter\n",
    "\n",
    "def create_frequency_table(data):\n",
    "    frequency_table = Counter(data)\n",
    "    return dict(frequency_table)\n",
    "\n",
    "# List 1: Student Ages\n",
    "ages = [18, 19, 20, 18, 21, 19, 20, 22, 18, 19, 20, 21, 22, 18, 20]\n",
    "# List 2: Exam Scores\n",
    "scores = [85, 92, 78, 90, 85, 88, 92, 79, 85, 90, 86, 92, 88]\n",
    "age_counter = Counter(ages)\n",
    "#print the ages using the most_common() method \n",
    "for age, count in age_counter.most_common():\n",
    "    print(f\"Age {age}: {count} times\")\n",
    "result = create_frequency_table(ages)\n",
    "print(result)"
   ]
  },
  {
   "cell_type": "code",
   "execution_count": null,
   "metadata": {},
   "outputs": [],
   "source": [
    "from collections import counter\n",
    "\n",
    "sales = [100, 250, 150, 100, 200, 250, 150, 300, 100, 200, 250, 150]\n",
    "def sorted_frequency_table(data):\n",
    "    sales_counter = Counter(sales)\n",
    "    sorted_table = sorted(sales_counter.items)\n",
    "    return sorted_table\n"
   ]
  }
 ],
 "metadata": {
  "kernelspec": {
   "display_name": "Python 3",
   "language": "python",
   "name": "python3"
  },
  "language_info": {
   "codemirror_mode": {
    "name": "ipython",
    "version": 3
   },
   "file_extension": ".py",
   "mimetype": "text/x-python",
   "name": "python",
   "nbconvert_exporter": "python",
   "pygments_lexer": "ipython3",
   "version": "3.12.1"
  }
 },
 "nbformat": 4,
 "nbformat_minor": 2
}
