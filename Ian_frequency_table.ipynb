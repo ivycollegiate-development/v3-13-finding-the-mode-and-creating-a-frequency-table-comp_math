{
 "cells": [
  {
   "cell_type": "code",
   "execution_count": 3,
   "metadata": {},
   "outputs": [
    {
     "name": "stdout",
     "output_type": "stream",
     "text": [
      "Age 18: 4 times\n",
      "Age 20: 4 times\n",
      "Age 19: 3 times\n",
      "Age 21: 2 times\n",
      "Age 22: 2 times\n",
      "{18: 4, 19: 3, 20: 4, 21: 2, 22: 2}\n"
     ]
    }
   ],
   "source": [
    "from collections import Counter\n",
    "\n",
    "def create_frequency_table(data):\n",
    "    frequency_table = Counter(data)\n",
    "    return dict(frequency_table)\n",
    "\n",
    "# List 1: Student Ages\n",
    "ages = [18, 19, 20, 18, 21, 19, 20, 22, 18, 19, 20, 21, 22, 18, 20]\n",
    "# List 2: Exam Scores\n",
    "scores = [85, 92, 78, 90, 85, 88, 92, 79, 85, 90, 86, 92, 88]\n",
    "age_counter = Counter(ages)\n",
    "#print the ages using the most_common() method \n",
    "for age, count in age_counter.most_common():\n",
    "    print(f\"Age {age}: {count} times\")\n",
    "result = create_frequency_table(ages)\n",
    "print(result)"
   ]
  },
  {
   "cell_type": "code",
   "execution_count": 9,
   "metadata": {},
   "outputs": [
    {
     "name": "stdout",
     "output_type": "stream",
     "text": [
      "Frequency Table sorted by Value\n"
     ]
    },
    {
     "ename": "TypeError",
     "evalue": "'builtin_function_or_method' object is not iterable",
     "output_type": "error",
     "traceback": [
      "\u001b[0;31m---------------------------------------------------------------------------\u001b[0m",
      "\u001b[0;31mTypeError\u001b[0m                                 Traceback (most recent call last)",
      "Cell \u001b[0;32mIn[9], line 9\u001b[0m\n\u001b[1;32m      7\u001b[0m     \u001b[38;5;28;01mreturn\u001b[39;00m sorted_table\n\u001b[1;32m      8\u001b[0m \u001b[38;5;28mprint\u001b[39m(\u001b[38;5;124m\"\u001b[39m\u001b[38;5;124mFrequency Table sorted by Value\u001b[39m\u001b[38;5;124m\"\u001b[39m)\n\u001b[0;32m----> 9\u001b[0m \u001b[38;5;28;01mfor\u001b[39;00m value, frequecy \u001b[38;5;129;01min\u001b[39;00m \u001b[43msorted_frequency_table\u001b[49m\u001b[43m(\u001b[49m\u001b[43msales\u001b[49m\u001b[43m)\u001b[49m:\n\u001b[1;32m     10\u001b[0m     \u001b[38;5;28mprint\u001b[39m(\u001b[38;5;124mf\u001b[39m\u001b[38;5;124m\"\u001b[39m\u001b[38;5;124mValue \u001b[39m\u001b[38;5;132;01m{\u001b[39;00mvalue\u001b[38;5;132;01m}\u001b[39;00m\u001b[38;5;124m: Appears \u001b[39m\u001b[38;5;132;01m{\u001b[39;00mfrequency\u001b[38;5;132;01m}\u001b[39;00m\u001b[38;5;124m times\u001b[39m\u001b[38;5;124m\"\u001b[39m)\n\u001b[1;32m     13\u001b[0m \u001b[38;5;66;03m#def frenquecy_by_count(data):\u001b[39;00m\n",
      "Cell \u001b[0;32mIn[9], line 6\u001b[0m, in \u001b[0;36msorted_frequency_table\u001b[0;34m(data)\u001b[0m\n\u001b[1;32m      4\u001b[0m \u001b[38;5;28;01mdef\u001b[39;00m \u001b[38;5;21msorted_frequency_table\u001b[39m(data):\n\u001b[1;32m      5\u001b[0m     sales_counter \u001b[38;5;241m=\u001b[39m Counter(sales)\n\u001b[0;32m----> 6\u001b[0m     sorted_table \u001b[38;5;241m=\u001b[39m \u001b[38;5;28;43msorted\u001b[39;49m\u001b[43m(\u001b[49m\u001b[43msales_counter\u001b[49m\u001b[38;5;241;43m.\u001b[39;49m\u001b[43mitems\u001b[49m\u001b[43m)\u001b[49m\n\u001b[1;32m      7\u001b[0m     \u001b[38;5;28;01mreturn\u001b[39;00m sorted_table\n",
      "\u001b[0;31mTypeError\u001b[0m: 'builtin_function_or_method' object is not iterable"
     ]
    }
   ],
   "source": [
    "from collections import Counter\n",
    "\n",
    "sales = [100, 250, 150, 100, 200, 250, 150, 300, 100, 200, 250, 150]\n",
    "def sorted_frequency_table(data):\n",
    "    sales_counter = Counter(sales)\n",
    "    sorted_table = sorted(sales_counter.items)\n",
    "    return sorted_table\n",
    "print(\"Frequency Table sorted by Value\")\n",
    "for value, frequecy in sorted_frequency_table(sales):\n",
    "    print(f\"Value {value}: Appears {frequency} times\")\n",
    "\n",
    "\n",
    "#def frenquecy_by_count(data):"
   ]
  }
 ],
 "metadata": {
  "kernelspec": {
   "display_name": "Python 3",
   "language": "python",
   "name": "python3"
  },
  "language_info": {
   "codemirror_mode": {
    "name": "ipython",
    "version": 3
   },
   "file_extension": ".py",
   "mimetype": "text/x-python",
   "name": "python",
   "nbconvert_exporter": "python",
   "pygments_lexer": "ipython3",
   "version": "3.12.1"
  }
 },
 "nbformat": 4,
 "nbformat_minor": 2
}
