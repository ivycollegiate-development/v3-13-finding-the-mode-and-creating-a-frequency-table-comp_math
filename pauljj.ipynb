{
 "cells": [
  {
   "cell_type": "code",
   "execution_count": null,
   "metadata": {},
   "outputs": [],
   "source": [
    "from collections import Counter\n",
    "\n",
    "# List 1: Student Ages\n",
    "ages = [18, 19, 20, 18, 21, 19, 20, 22, 18, 19, 20, 21, 22, 18, 20]\n",
    "# List 2: Exam Scores\n",
    "scores = [85, 92, 78, 90, 85, 88, 92, 79, 85, 90, 86, 92, 88]\n",
    "\n",
    "def create_frequency_table(data):\n",
    "    age_counter = Counter(ages)\n",
    "\n",
    "    print(\"Age Frequencies:\")\n",
    "    for age, count in age_counter.most_common():\n",
    "        print(\"Age {age}: {count} times\")\n",
    "\n",
    "    return create_frequency_table\n",
    "\n",
    "sales = [100, 250, 150, 100, 200, 250, 150, 300, 100, 200, 250, 150]\n",
    "\n",
    "\n",
    "\n",
    "def create_frequency_table2(data):\n",
    "    score_counter = Counter(scores)\n",
    "\n",
    "    print(\"Score Frequencies:\")\n",
    "    for age, count in score_counter.most_common():\n",
    "        print(\"Score {score}: {count} times\")\n",
    "        top_3_scores = score_counter.most_common(3)\n",
    "        return score_counter, top_3_scores\n",
    "\n",
    "\n",
    "    return create_frequency_table2\n",
    "\n"
   ]
  }
 ],
 "metadata": {
  "language_info": {
   "name": "python"
  }
 },
 "nbformat": 4,
 "nbformat_minor": 2
}
