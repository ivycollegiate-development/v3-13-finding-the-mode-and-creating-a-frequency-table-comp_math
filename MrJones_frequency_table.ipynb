{
 "cells": [
  {
   "cell_type": "code",
   "execution_count": 5,
   "metadata": {},
   "outputs": [
    {
     "name": "stdout",
     "output_type": "stream",
     "text": [
      "Age 18: 4 times\n",
      "Age 20: 4 times\n",
      "Age 19: 3 times\n",
      "Age 21: 2 times\n",
      "Age 22: 2 times\n",
      "{18: 4, 19: 3, 20: 4, 21: 2, 22: 2}\n"
     ]
    }
   ],
   "source": [
    "from collections import Counter\n",
    "\n",
    "def create_frequency_table(data):\n",
    "    frequency_table = Counter(data)\n",
    "    return dict(frequency_table)\n",
    "\n",
    "# List 1: Student Ages\n",
    "ages = [18, 19, 20, 18, 21, 19, 20, 22, 18, 19, 20, 21, 22, 18, 20]\n",
    "\n",
    "#Create a counter object to count occurances\n",
    "age_counter = Counter(ages)\n",
    "\n",
    "#Prints the ages using the most_common() method\n",
    "for age, count in age_counter.most_common():\n",
    "    print(f\"Age {age}: {count} times\")\n",
    "\n",
    "result = create_frequency_table(ages)\n",
    "print(result)"
   ]
  },
  {
   "cell_type": "code",
   "execution_count": null,
   "metadata": {},
   "outputs": [],
   "source": [
    "from collections import Counter\n",
    "\n",
    "# List of Product Sales\n",
    "sales = [100, 250, 150, 100, 200, 250, 150, 300, 100, 200, 250, 150]\n",
    "# Write a function to create a frequency table sorted by number (ascending):\n",
    "def sorted_frequency_table(data):\n",
    "    # Your code here\n",
    "    sales_counter = Counter(?)    \n",
    "    ? = sorted(sales_counter.items)\n",
    "    return sorted_table\n",
    "\n",
    "# Modify the previous function to sort by frequency in descending order:\n",
    "def frequency_by_count(data):\n",
    "    # Your code here\n",
    "    \n",
    "    \n",
    "    \n",
    "    return freq_table"
   ]
  }
 ],
 "metadata": {
  "kernelspec": {
   "display_name": "Python 3",
   "language": "python",
   "name": "python3"
  },
  "language_info": {
   "codemirror_mode": {
    "name": "ipython",
    "version": 3
   },
   "file_extension": ".py",
   "mimetype": "text/x-python",
   "name": "python",
   "nbconvert_exporter": "python",
   "pygments_lexer": "ipython3",
   "version": "3.12.1"
  }
 },
 "nbformat": 4,
 "nbformat_minor": 2
}
